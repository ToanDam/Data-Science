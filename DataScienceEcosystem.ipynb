{
 "cells": [
  {
   "cell_type": "markdown",
   "id": "2117be2a-74ab-47df-9894-fe102ee7f9a1",
   "metadata": {},
   "source": [
    "# Data Science Tools and Ecosystem"
   ]
  },
  {
   "cell_type": "markdown",
   "id": "54668b8d-8390-4a4d-bb08-6289b63fce95",
   "metadata": {},
   "source": [
    "In this notebook, Data Science Tools and Ecosystem are summarized."
   ]
  },
  {
   "cell_type": "markdown",
   "id": "e513233d-9c4b-40ab-9a0c-2cee9a92e263",
   "metadata": {},
   "source": [
    "__Objectives:__\n",
    "<ul>List popular languages for Data Science</ul>\n",
    "<ul>List commonly used libraries used by Data Scientists</ul>\n",
    "<ul>List Data Science Tools</ul>\n",
    "<ul>Run arithmetic expressions in Python</ul>"
   ]
  },
  {
   "cell_type": "markdown",
   "id": "ee12250e-2fee-42c3-8fd0-d172f62b309f",
   "metadata": {},
   "source": [
    "Some of the popular languages that Data Scientists use are:\n",
    "<ol>Python</ol>\n",
    "<ol>R</ol>\n",
    "<ol>Scala</ol>"
   ]
  },
  {
   "cell_type": "markdown",
   "id": "0bd57cf3-3529-46ee-a28b-d19ebd509bca",
   "metadata": {},
   "source": [
    "Some of the commonly used libraries used by Data Scientists include:\n",
    "<li>Pandas</li>\n",
    "<li>Numpy</li>\n",
    "<li>Scikit-learn</li>"
   ]
  },
  {
   "cell_type": "markdown",
   "id": "c7aed2ad-ae24-4473-bee5-ea830f3391ce",
   "metadata": {},
   "source": [
    "|Data Science Tools|\n",
    ":------------------\n",
    "|Jupyter Notebooks|\n",
    "|R Studio's|\n",
    "|Visual Studio|\n"
   ]
  },
  {
   "cell_type": "markdown",
   "id": "66bdf3fe-632a-4c88-8027-75ed4b2751a2",
   "metadata": {},
   "source": [
    "### Below are a few examples of evaluating arithmetic expressions in Python"
   ]
  },
  {
   "cell_type": "code",
   "execution_count": 2,
   "id": "3b5555dc-8e84-43e4-82be-51511d7a032d",
   "metadata": {},
   "outputs": [
    {
     "data": {
      "text/plain": [
       "17"
      ]
     },
     "execution_count": 2,
     "metadata": {},
     "output_type": "execute_result"
    }
   ],
   "source": [
    "# This a simple arithmetic expression to mutiply then add integers\n",
    "(3*4)+5"
   ]
  },
  {
   "cell_type": "code",
   "execution_count": 3,
   "id": "475fc0a6-1965-4b67-9de3-32ff02b5340a",
   "metadata": {},
   "outputs": [
    {
     "data": {
      "text/plain": [
       "3.3333333333333335"
      ]
     },
     "execution_count": 3,
     "metadata": {},
     "output_type": "execute_result"
    }
   ],
   "source": [
    " # This will convert 200 minutes to hours by diving by 60\n",
    "200/60"
   ]
  },
  {
   "cell_type": "markdown",
   "id": "a25f8146-e152-4b11-8b54-43deadc619bc",
   "metadata": {},
   "source": []
  }
 ],
 "metadata": {
  "kernelspec": {
   "display_name": "Python 3 (ipykernel)",
   "language": "python",
   "name": "python3"
  },
  "language_info": {
   "codemirror_mode": {
    "name": "ipython",
    "version": 3
   },
   "file_extension": ".py",
   "mimetype": "text/x-python",
   "name": "python",
   "nbconvert_exporter": "python",
   "pygments_lexer": "ipython3",
   "version": "3.11.7"
  }
 },
 "nbformat": 4,
 "nbformat_minor": 5
}
